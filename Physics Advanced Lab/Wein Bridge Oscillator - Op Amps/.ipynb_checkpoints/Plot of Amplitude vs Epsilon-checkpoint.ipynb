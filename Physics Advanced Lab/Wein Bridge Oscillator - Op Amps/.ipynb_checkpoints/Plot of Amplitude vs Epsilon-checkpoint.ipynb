{
 "cells": [
  {
   "cell_type": "markdown",
   "id": "1c0b5cb5",
   "metadata": {},
   "source": [
    "## Plotting Amplitude vs Epsilon for the Wein Bridge Oscillator Op Amp Circuit\n",
    "\n",
    "### Alya Sharbaugh, Junior Lab II, Spring 2022"
   ]
  },
  {
   "cell_type": "code",
   "execution_count": 8,
   "id": "ab8adaf8",
   "metadata": {},
   "outputs": [],
   "source": [
    "#importing libraries\n",
    "import numpy as np\n",
    "import matplotlib as plot\n",
    "\n",
    "#libraries for reading csv\n",
    "import csv\n",
    "import pandas as pd"
   ]
  },
  {
   "cell_type": "code",
   "execution_count": 19,
   "id": "15aa3bc5",
   "metadata": {},
   "outputs": [
    {
     "name": "stdout",
     "output_type": "stream",
     "text": [
      "[[105.4, 0.0, 0.344, 0.004, 0.172, 0.002], [106.2, 0.008, 0.64, 0.004, 0.32, 0.002], [107.2, 0.017, 0.872, 0.008, 0.436, 0.004], [107.6, 0.021, 0.952, 0.002, 0.476, 0.001], [108.2, 0.027, 1.06, 0.02, 0.53, 0.01], [109.0, 0.034, 1.24, 0.02, 0.62, 0.01], [110.0, 0.044, 1.4, 0.0, 0.7, 0.0], [111.0, 0.053, 1.52, 0.02, 0.76, 0.01], [112.0, 0.063, 1.66, 0.0, 0.83, 0.0], [113.0, 0.072, 1.78, 0.02, 0.89, 0.01], [114.0, 0.082, 1.88, 0.04, 0.94, 0.02], [115.0, 0.091, 1.98, 0.0, 0.99, 0.0], [116.0, 0.101, 2.08, 0.02, 1.04, 0.01], [117.0, 0.11, 2.18, 0.0, 1.09, 0.0], [118.0, 0.12, 2.26, 0.01, 1.13, 0.005], [119.0, 0.129, 2.34, 0.02, 1.17, 0.01], [120.0, 0.139, 2.44, 0.02, 1.22, 0.01]]\n",
      "[105.4, 0.0, 0.344, 0.004, 0.172, 0.002]\n"
     ]
    },
    {
     "ename": "IndexError",
     "evalue": "list index out of range",
     "output_type": "error",
     "traceback": [
      "\u001b[1;31m---------------------------------------------------------------------------\u001b[0m",
      "\u001b[1;31mIndexError\u001b[0m                                Traceback (most recent call last)",
      "\u001b[1;32m~\\AppData\\Local\\Temp/ipykernel_3308/481408649.py\u001b[0m in \u001b[0;36m<module>\u001b[1;34m\u001b[0m\n\u001b[0;32m     18\u001b[0m     \u001b[0mloop_list\u001b[0m\u001b[1;33m.\u001b[0m\u001b[0mappend\u001b[0m\u001b[1;33m(\u001b[0m\u001b[0mdata_list\u001b[0m\u001b[1;33m[\u001b[0m\u001b[0mx\u001b[0m\u001b[1;33m]\u001b[0m\u001b[1;33m)\u001b[0m\u001b[1;33m\u001b[0m\u001b[1;33m\u001b[0m\u001b[0m\n\u001b[0;32m     19\u001b[0m     \u001b[1;32mfor\u001b[0m \u001b[0my\u001b[0m \u001b[1;32min\u001b[0m \u001b[0mrange\u001b[0m \u001b[1;33m(\u001b[0m\u001b[1;36m0\u001b[0m\u001b[1;33m,\u001b[0m \u001b[1;36m2\u001b[0m\u001b[1;33m)\u001b[0m\u001b[1;33m:\u001b[0m\u001b[1;33m\u001b[0m\u001b[1;33m\u001b[0m\u001b[0m\n\u001b[1;32m---> 20\u001b[1;33m         \u001b[0mepsilon_values\u001b[0m\u001b[1;33m.\u001b[0m\u001b[0mappend\u001b[0m\u001b[1;33m(\u001b[0m\u001b[0mloop_list\u001b[0m\u001b[1;33m[\u001b[0m\u001b[0my\u001b[0m\u001b[1;33m]\u001b[0m\u001b[1;33m)\u001b[0m\u001b[1;33m\u001b[0m\u001b[1;33m\u001b[0m\u001b[0m\n\u001b[0m\u001b[0;32m     21\u001b[0m \u001b[1;33m\u001b[0m\u001b[0m\n\u001b[0;32m     22\u001b[0m \u001b[0mprint\u001b[0m\u001b[1;33m(\u001b[0m\u001b[0mepsilon_values\u001b[0m\u001b[1;33m)\u001b[0m\u001b[1;33m\u001b[0m\u001b[1;33m\u001b[0m\u001b[0m\n",
      "\u001b[1;31mIndexError\u001b[0m: list index out of range"
     ]
    }
   ],
   "source": [
    "#reading in data from /data .csv\n",
    "data = pd.read_csv(\"data/opampData.csv\")\n",
    "\n",
    "df = pd.DataFrame(data)\n",
    "data_list = df.values.tolist()\n",
    "\n",
    "print(data_list)\n",
    "\n",
    "R0 = data_list[0]\n",
    "\n",
    "print(R1)\n",
    "\n",
    "num_points = 15\n",
    "loop_list = []\n",
    "epsilon_values = []\n",
    "\n",
    "for x in range (0, 17):\n",
    "    loop_list = \n",
    "        \n",
    "print(epsilon_values)"
   ]
  },
  {
   "cell_type": "code",
   "execution_count": null,
   "id": "205f494d",
   "metadata": {},
   "outputs": [],
   "source": [
    "#plotting the log/log plot using matplotlib\n"
   ]
  }
 ],
 "metadata": {
  "kernelspec": {
   "display_name": "Python 3 (ipykernel)",
   "language": "python",
   "name": "python3"
  },
  "language_info": {
   "codemirror_mode": {
    "name": "ipython",
    "version": 3
   },
   "file_extension": ".py",
   "mimetype": "text/x-python",
   "name": "python",
   "nbconvert_exporter": "python",
   "pygments_lexer": "ipython3",
   "version": "3.8.8"
  }
 },
 "nbformat": 4,
 "nbformat_minor": 5
}
