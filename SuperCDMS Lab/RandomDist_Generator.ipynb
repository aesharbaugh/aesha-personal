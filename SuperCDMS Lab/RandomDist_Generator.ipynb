{
 "cells": [
  {
   "cell_type": "markdown",
   "id": "34770e1d",
   "metadata": {},
   "source": [
    "# Distrubution Generator for L3He-detector"
   ]
  },
  {
   "cell_type": "code",
   "execution_count": 1,
   "id": "c4799764",
   "metadata": {},
   "outputs": [],
   "source": [
    "#import relevant libraries\n",
    "from numpy.random import normal\n",
    "import matplotlib.pyplot as plt"
   ]
  },
  {
   "cell_type": "markdown",
   "id": "e2053d6c",
   "metadata": {},
   "source": [
    "## Input parameters for sample size and number of bins or use defaults."
   ]
  },
  {
   "cell_type": "code",
   "execution_count": 2,
   "id": "0944f3a3",
   "metadata": {},
   "outputs": [],
   "source": [
    "sample_size = 10000\n",
    "num_bins = 100"
   ]
  },
  {
   "cell_type": "markdown",
   "id": "916cad95",
   "metadata": {},
   "source": [
    "Generating random data."
   ]
  },
  {
   "cell_type": "code",
   "execution_count": 3,
   "id": "e07b5ed6",
   "metadata": {},
   "outputs": [],
   "source": [
    "#generate sample that follows normal distribution \n",
    "data = normal(loc=0, scale=1, size=sample_size)"
   ]
  },
  {
   "cell_type": "markdown",
   "id": "df53a4b0",
   "metadata": {},
   "source": [
    "Generating plot of data."
   ]
  },
  {
   "cell_type": "code",
   "execution_count": 4,
   "id": "4914b045",
   "metadata": {},
   "outputs": [
    {
     "data": {
      "image/png": "[encoded data removed]",
      "text/plain": [
       "<Figure size 432x288 with 1 Axes>"
      ]
     },
     "metadata": {
      "needs_background": "light"
     },
     "output_type": "display_data"
    }
   ],
   "source": [
    "#plot histogram\n",
    "count, bins, ignored = plt.hist(data, num_bins)\n",
    "plt.show()"
   ]
  },
  {
   "cell_type": "code",
   "execution_count": null,
   "id": "8b952504",
   "metadata": {},
   "outputs": [],
   "source": []
  }
 ],
 "metadata": {
  "kernelspec": {
   "display_name": "Python 3 (ipykernel)",
   "language": "python",
   "name": "python3"
  },
  "language_info": {
   "codemirror_mode": {
    "name": "ipython",
    "version": 3
   },
   "file_extension": ".py",
   "mimetype": "text/x-python",
   "name": "python",
   "nbconvert_exporter": "python",
   "pygments_lexer": "ipython3",
   "version": "3.8.8"
  }
 },
 "nbformat": 4,
 "nbformat_minor": 5
}
